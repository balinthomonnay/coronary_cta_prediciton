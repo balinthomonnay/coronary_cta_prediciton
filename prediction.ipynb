{
 "cells": [
  {
   "cell_type": "code",
   "execution_count": null,
   "id": "4d0a17f0-94cb-4a42-89bd-14137db91071",
   "metadata": {},
   "outputs": [],
   "source": [
    "from tensorflow import keras\n",
    "import pydicom\n",
    "import numpy as np"
   ]
  },
  {
   "cell_type": "code",
   "execution_count": null,
   "id": "f5777b22-af04-401d-b5a0-f3e851bc10e2",
   "metadata": {},
   "outputs": [],
   "source": [
    "model = keras.models.load_model('path/to/location')"
   ]
  },
  {
   "cell_type": "code",
   "execution_count": null,
   "id": "d91be14f-c285-4799-823e-85e27342667b",
   "metadata": {},
   "outputs": [],
   "source": [
    "def full_cta_model_evaluation(image, model, z_stride, which_prediction):\n",
    "    '''\n",
    "    Helper function, which given the original ct image of a plaque will give back the masks for the DL segmentation.\n",
    "    '''\n",
    "    # Shape of original images\n",
    "    size_X = image.shape[2]\n",
    "    size_Y = image.shape[1]\n",
    "    size_Z = image.shape[0]\n",
    "\n",
    "    image_paded = np.zeros((size_Z + 24,\n",
    "                            size_Y,\n",
    "                            size_X))\n",
    "\n",
    "    image_paded[:size_Z, :size_Y, :size_X] = image / 512\n",
    "\n",
    "    prediction_array = np.zeros((size_Z + 24,\n",
    "                                 size_Y,\n",
    "                                 size_X))\n",
    "\n",
    "    coverage_array = np.zeros((size_Z + 24,\n",
    "                               size_Y,\n",
    "                               size_X))\n",
    "\n",
    "    # Containers for batch predictions\n",
    "    patch_boundaries_list = []\n",
    "    counter = 0\n",
    "\n",
    "    # Stride along Z axis:  \n",
    "    for z_start in range(0, prediction_array.shape[2], z_stride):\n",
    "        z_end = z_start + 24\n",
    "        if (np.count_nonzero(image[z_start:z_end, :, :]) > 1):\n",
    "            patch_boundaries_list.append([z_start, z_end])\n",
    "    for patch_index in range(0, len(patch_boundaries_list)):\n",
    "        # patch_boundaries in current batch\n",
    "        temporal_boundaries = patch_boundaries_list[patch_index]\n",
    "        temp_patches = []\n",
    "        # Extracting patches for prediction\n",
    "        current_patch = image_paded[temporal_boundaries[0]:temporal_boundaries[1],\n",
    "                        16:48,\n",
    "                        16:48]\n",
    "        current_patch = np.expand_dims(current_patch, axis=0)\n",
    "        # Updating prediction_array and coverage_array\n",
    "        predicted_patch = model.predict(np.expand_dims(current_patch, axis=-1))\n",
    "\n",
    "        # 0 belső maszk 1 külső maszk 2 differencia\n",
    "\n",
    "        prediction = predicted_patch[which_prediction]\n",
    "\n",
    "        prediction = np.reshape(prediction, [24, 32, 32])\n",
    "\n",
    "        prediction_array[temporal_boundaries[0]:temporal_boundaries[1],\n",
    "        16:48,\n",
    "        16:48] += prediction\n",
    "\n",
    "        # print(prediction_array[32, 32, 32])\n",
    "\n",
    "        coverage_array[temporal_boundaries[0]:temporal_boundaries[1],\n",
    "        :,\n",
    "        :] += 1\n",
    "\n",
    "    coverage_array = np.maximum(coverage_array, np.ones(coverage_array.shape))\n",
    "    # Taking the average prediction value for the pixels\n",
    "    prediction_array = np.divide(prediction_array, coverage_array)\n",
    "    # print(prediction_array[32,32,32])\n",
    "    # Removing the prediction values outside of the CT  \n",
    "    prediction_array = prediction_array[0:size_Z, 0:size_Y, 0:size_X]\n",
    "\n",
    "    # The average prediction value is continuous between 0 and 1,   \n",
    "    # so for the segmentation we have to threshold it   \n",
    "    prediction_array = (prediction_array > 1 / 2) * 1\n",
    "\n",
    "    return prediction_array"
   ]
  },
  {
   "cell_type": "code",
   "execution_count": null,
   "id": "27bd0755-be90-4ab2-bb44-95e9f77641af",
   "metadata": {},
   "outputs": [],
   "source": [
    "def mask_from_dicom(contour_file_name):\n",
    "    ds = pydicom.dcmread(contour_file_name)\n",
    "    pixels = np.array(ds.pixel_array)\n",
    "    pixels = np.where(pixels > 0, 1, 0)\n",
    "    return pixels"
   ]
  },
  {
   "cell_type": "code",
   "execution_count": null,
   "id": "777e3189-7dfe-43ef-bba0-42b9cf5a2926",
   "metadata": {},
   "outputs": [],
   "source": [
    "def one_vessel(image_path):\n",
    "    '''\n",
    "    retrun DL segmentation and original segmentation of one plaque.\n",
    "    '''\n",
    "    image_dicom=pydicom.dcmread(image_path)\n",
    "    image = image_dicom.pixel_array\n",
    "\n",
    "    dif_prediction = full_cta_model_evaluation(image = image, model = model, z_stride = 12, which_prediction=2) \n",
    "    #contour of plaque area, segmented by DL\n",
    "    mask_1_prediction= full_cta_model_evaluation(image = image, model = model, z_stride = 12, which_prediction=0)\n",
    "    #contour of inner vessel wall segmented by DL\n",
    "    mask_2_prediction= full_cta_model_evaluation(image = image, model = model, z_stride = 12, which_prediction=1)  \n",
    "    #contour of outer vessel wall segmented by DL\n",
    "\n",
    "    mask_1_path = os.path.join(basic_path, image_name[:-13]+\"Contour1.dcm\") \n",
    "    #if the naming process of the mevislab code is not ovewritten, this loads the relevant files\n",
    "    mask_2_path = os.path.join(basic_path, image_name[:-13]+\"Contour2.dcm\")\n",
    "    mask_1 = mask_from_dicom(mask_1_path) #contour of inner vessel wall of the original segmentation\n",
    "    mask_2 = mask_from_dicom(mask_2_path) #contour of outer vessel wall of the original segmentation\n",
    "    dif_test=mask_2-mask_1 #contour of the plaque area of the original segmentation\n",
    "        \n",
    "    return image, dif_test, dif_prediction, mask_1_prediction, mask_2_prediction, mask_1, mask_2"
   ]
  },
  {
   "cell_type": "code",
   "execution_count": null,
   "id": "22ed5be6-8859-4c3c-af69-8a4c03aa2de2",
   "metadata": {},
   "outputs": [],
   "source": [
    "image, dif_test, dif_prediction, mask_1_prediction, mask_2_prediction, mask_1, mask_2 = one_vessel(image_path)"
   ]
  }
 ],
 "metadata": {
  "kernelspec": {
   "display_name": "🌍 Base Python 3.7 Environment (ipykernel)",
   "language": "python",
   "name": "python3"
  },
  "language_info": {
   "codemirror_mode": {
    "name": "ipython",
    "version": 3
   },
   "file_extension": ".py",
   "mimetype": "text/x-python",
   "name": "python",
   "nbconvert_exporter": "python",
   "pygments_lexer": "ipython3",
   "version": "3.7.9"
  },
  "widgets": {
   "application/vnd.jupyter.widget-state+json": {
    "state": {},
    "version_major": 2,
    "version_minor": 0
   }
  }
 },
 "nbformat": 4,
 "nbformat_minor": 5
}
