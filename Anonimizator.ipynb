{
 "cells": [
  {
   "cell_type": "code",
   "execution_count": 1,
   "metadata": {},
   "outputs": [],
   "source": [
    "import pydicom\n",
    "import glob\n",
    "import os\n",
    "import zipfile\n",
    "import shutil"
   ]
  },
  {
   "cell_type": "markdown",
   "metadata": {},
   "source": [
    "This script will anonimize dicom files, open zip files and copy all other files in a directory maintaining its structure."
   ]
  },
  {
   "cell_type": "code",
   "execution_count": 2,
   "metadata": {},
   "outputs": [],
   "source": [
    "def main(args):\n",
    "    input_path = os.path.join(args.input_dir, args.glob)\n",
    "    if not os.path.exists(args.output_dir):\n",
    "        os.makedirs(args.output_dir)\n",
    "    \n",
    "    files = glob.glob(input_path)\n",
    "\n",
    "    for i, input_file in enumerate(files):\n",
    "        try:\n",
    "            # if pydicom can read the file, try to anonimize it and save it without the attributes specified in the argument class\n",
    "            # feel free to delete this try expect cause if your data is already anonimized, or do not need anonimization\n",
    "            dicom_file = pydicom.dcmread(input_file)\n",
    "            for attribute in args.required_attributes:\n",
    "                if attribute in dicom_file:\n",
    "                    dicom_file.data_element(attribute).value=''\n",
    "            output_path = os.path.join(args.output_dir, os.path.basename(input_file))\n",
    "            dicom_file.save_as(output_path)                 \n",
    "        except:\n",
    "            args2=argument_class()\n",
    "            args2.input_dir=input_file\n",
    "            args2.output_dir=os.path.join(args.output_dir, os.path.basename(input_file))\n",
    "            if os.path.isdir(input_file):\n",
    "                #if the current item is a directory, call the same function iteratively\n",
    "                main(args2)\n",
    "            elif input_file[len(input_file)-4:]=='.zip':\n",
    "                #if the current item is a zip file, open it, move it to a temporary loaction, and call the main function on it.\n",
    "                if not os.path.exists(args.temporary_dir):        \n",
    "                    os.makedirs(args.temporary_dir)\n",
    "                with zipfile.ZipFile(input_file, 'r') as zip:\n",
    "                    zip.extractall(args.temporary_dir)\n",
    "                args2.input_dir=args.temporary_dir\n",
    "                args2.output_dir=args2.output_dir[:len(args2.output_dir)-4]\n",
    "                main(args2)\n",
    "                shutil.rmtree(args.temporary_dir)\n",
    "            else:\n",
    "                #if the current item is not a dicom, a zip or a directory, just copy it\n",
    "                output_path = os.path.join(args.output_dir, os.path.basename(input_file))\n",
    "                shutil.copyfile(input_file,output_path)\n"
   ]
  },
  {
   "cell_type": "code",
   "execution_count": 3,
   "metadata": {},
   "outputs": [],
   "source": [
    "class argument_class:\n",
    "    def __init__(self):\n",
    "        self.input_dir=''\n",
    "        self.output_dir=''\n",
    "        self.glob='*'\n",
    "        self.required_attributes=['PatientName','PatientBirthDate'] #these attrinutes will be nulled in the dicom files, thus anonimizing the dicom\n",
    "        self.temporary_dir='C:\\\\Users\\\\Balint\\\\Desktop\\\\Temporary'  #tempopary directory to extract zip files to"
   ]
  },
  {
   "cell_type": "code",
   "execution_count": 4,
   "metadata": {},
   "outputs": [],
   "source": [
    "args=argument_class()"
   ]
  },
  {
   "cell_type": "code",
   "execution_count": 5,
   "metadata": {},
   "outputs": [],
   "source": [
    "args.input_dir='F:\\\\Natasa\\\\NRS'\n",
    "args.output_dir='E:\\\\NRS_anon'"
   ]
  },
  {
   "cell_type": "code",
   "execution_count": 6,
   "metadata": {},
   "outputs": [],
   "source": [
    "main(args)"
   ]
  },
  {
   "cell_type": "code",
   "execution_count": null,
   "metadata": {},
   "outputs": [],
   "source": []
  }
 ],
 "metadata": {
  "kernelspec": {
   "display_name": "Python 3",
   "language": "python",
   "name": "python3"
  },
  "language_info": {
   "codemirror_mode": {
    "name": "ipython",
    "version": 3
   },
   "file_extension": ".py",
   "mimetype": "text/x-python",
   "name": "python",
   "nbconvert_exporter": "python",
   "pygments_lexer": "ipython3",
   "version": "3.8.5"
  }
 },
 "nbformat": 4,
 "nbformat_minor": 2
}
